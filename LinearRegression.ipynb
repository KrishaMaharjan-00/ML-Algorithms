{
 "cells": [
  {
   "cell_type": "code",
   "execution_count": 1,
   "id": "bed6001e",
   "metadata": {},
   "outputs": [],
   "source": [
    "import pandas as pd\n",
    "import numpy as np\n",
    "import matplotlib.pyplot as plt\n",
    "import pickle\n",
    "from sklearn import linear_model"
   ]
  },
  {
   "cell_type": "code",
   "execution_count": 2,
   "id": "aedcd3a6",
   "metadata": {
    "scrolled": true
   },
   "outputs": [
    {
     "name": "stdout",
     "output_type": "stream",
     "text": [
      "   Area  Price\n",
      "0    26    550\n",
      "1    30    565\n",
      "2    32    610\n",
      "3    36    680\n",
      "4    40    725\n"
     ]
    }
   ],
   "source": [
    "d = {'Area': [26, 30, 32, 36, 40], 'Price': [550, 565, 610, 680, 725]}\n",
    "df = pd.DataFrame(d)\n",
    "print(df)"
   ]
  },
  {
   "cell_type": "code",
   "execution_count": 3,
   "id": "21c82a0c",
   "metadata": {},
   "outputs": [],
   "source": [
    "df.to_csv('HousePrice.csv',index=False)"
   ]
  },
  {
   "cell_type": "code",
   "execution_count": 4,
   "id": "9880f79b",
   "metadata": {},
   "outputs": [
    {
     "data": {
      "text/html": [
       "<div>\n",
       "<style scoped>\n",
       "    .dataframe tbody tr th:only-of-type {\n",
       "        vertical-align: middle;\n",
       "    }\n",
       "\n",
       "    .dataframe tbody tr th {\n",
       "        vertical-align: top;\n",
       "    }\n",
       "\n",
       "    .dataframe thead th {\n",
       "        text-align: right;\n",
       "    }\n",
       "</style>\n",
       "<table border=\"1\" class=\"dataframe\">\n",
       "  <thead>\n",
       "    <tr style=\"text-align: right;\">\n",
       "      <th></th>\n",
       "      <th>Area</th>\n",
       "      <th>Price</th>\n",
       "    </tr>\n",
       "  </thead>\n",
       "  <tbody>\n",
       "    <tr>\n",
       "      <th>0</th>\n",
       "      <td>26</td>\n",
       "      <td>550</td>\n",
       "    </tr>\n",
       "    <tr>\n",
       "      <th>1</th>\n",
       "      <td>30</td>\n",
       "      <td>565</td>\n",
       "    </tr>\n",
       "    <tr>\n",
       "      <th>2</th>\n",
       "      <td>32</td>\n",
       "      <td>610</td>\n",
       "    </tr>\n",
       "    <tr>\n",
       "      <th>3</th>\n",
       "      <td>36</td>\n",
       "      <td>680</td>\n",
       "    </tr>\n",
       "    <tr>\n",
       "      <th>4</th>\n",
       "      <td>40</td>\n",
       "      <td>725</td>\n",
       "    </tr>\n",
       "  </tbody>\n",
       "</table>\n",
       "</div>"
      ],
      "text/plain": [
       "   Area  Price\n",
       "0    26    550\n",
       "1    30    565\n",
       "2    32    610\n",
       "3    36    680\n",
       "4    40    725"
      ]
     },
     "execution_count": 4,
     "metadata": {},
     "output_type": "execute_result"
    }
   ],
   "source": [
    "df = pd.read_csv('HousePrice.csv' )\n",
    "df.head()"
   ]
  },
  {
   "cell_type": "code",
   "execution_count": 5,
   "id": "a9643203",
   "metadata": {},
   "outputs": [
    {
     "data": {
      "text/plain": [
       "<matplotlib.collections.PathCollection at 0x26f2de5b3d0>"
      ]
     },
     "execution_count": 5,
     "metadata": {},
     "output_type": "execute_result"
    },
    {
     "data": {
      "image/png": "[encoded data removed]",
      "text/plain": [
       "<Figure size 432x288 with 1 Axes>"
      ]
     },
     "metadata": {
      "needs_background": "light"
     },
     "output_type": "display_data"
    }
   ],
   "source": [
    "%matplotlib inline\n",
    "plt.xlabel('Area')\n",
    "plt.ylabel('Price')\n",
    "plt.scatter(df.Area,df.Price,color=\"red\",marker=\"+\")"
   ]
  },
  {
   "cell_type": "code",
   "execution_count": 6,
   "id": "239d95a0",
   "metadata": {},
   "outputs": [
    {
     "data": {
      "text/plain": [
       "0.9584301138199487"
      ]
     },
     "execution_count": 6,
     "metadata": {},
     "output_type": "execute_result"
    }
   ],
   "source": [
    "reg = linear_model.LinearRegression()\n",
    "reg.fit(df[['Area']],df.Price)\n",
    "reg.score(df[['Area']],df.Price)"
   ]
  },
  {
   "cell_type": "code",
   "execution_count": 7,
   "id": "d4b71a54",
   "metadata": {
    "scrolled": true
   },
   "outputs": [
    {
     "data": {
      "text/plain": [
       "array([615.1369863 , 520.08561644, 547.24315068])"
      ]
     },
     "execution_count": 7,
     "metadata": {},
     "output_type": "execute_result"
    }
   ],
   "source": [
    "reg.predict([[32],[25],[27]])"
   ]
  },
  {
   "cell_type": "code",
   "execution_count": 8,
   "id": "44d02fcf",
   "metadata": {},
   "outputs": [
    {
     "data": {
      "text/plain": [
       "array([13.57876712])"
      ]
     },
     "execution_count": 8,
     "metadata": {},
     "output_type": "execute_result"
    }
   ],
   "source": [
    "reg.coef_"
   ]
  },
  {
   "cell_type": "code",
   "execution_count": 9,
   "id": "f4b95465",
   "metadata": {},
   "outputs": [
    {
     "data": {
      "text/plain": [
       "180.61643835616445"
      ]
     },
     "execution_count": 9,
     "metadata": {},
     "output_type": "execute_result"
    }
   ],
   "source": [
    "reg.intercept_"
   ]
  },
  {
   "cell_type": "code",
   "execution_count": 10,
   "id": "e155be03",
   "metadata": {},
   "outputs": [
    {
     "data": {
      "text/plain": [
       "184961.64383552433"
      ]
     },
     "execution_count": 10,
     "metadata": {},
     "output_type": "execute_result"
    }
   ],
   "source": [
    "135.78767123*32 + 180616.43835616432"
   ]
  },
  {
   "cell_type": "code",
   "execution_count": 11,
   "id": "6e3b12a4",
   "metadata": {},
   "outputs": [
    {
     "data": {
      "text/plain": [
       "[<matplotlib.lines.Line2D at 0x26f2e612fa0>]"
      ]
     },
     "execution_count": 11,
     "metadata": {},
     "output_type": "execute_result"
    },
    {
     "data": {
      "image/png": "[encoded data removed]",
      "text/plain": [
       "<Figure size 432x288 with 1 Axes>"
      ]
     },
     "metadata": {
      "needs_background": "light"
     },
     "output_type": "display_data"
    }
   ],
   "source": [
    "%matplotlib inline\n",
    "plt.xlabel('Area')\n",
    "plt.ylabel('Price')\n",
    "plt.scatter(df.Area,df.Price,color=\"red\",marker=\"+\")\n",
    "plt.plot(df.Area, reg.predict(df[['Area']]))"
   ]
  },
  {
   "cell_type": "code",
   "execution_count": 12,
   "id": "b5b65c35",
   "metadata": {},
   "outputs": [
    {
     "name": "stdout",
     "output_type": "stream",
     "text": [
      "186.8150684931507\n"
     ]
    }
   ],
   "source": [
    "df['Predict'] = (reg.coef_ * df['Area']) + reg.intercept_\n",
    "df['Error'] = df['Price']-df['Predict']\n",
    "df['Sq_Error']=df['Error']**2\n",
    "print(df['Sq_Error'].mean())"
   ]
  },
  {
   "cell_type": "code",
   "execution_count": 13,
   "id": "def2a3a8",
   "metadata": {},
   "outputs": [
    {
     "data": {
      "text/html": [
       "<div>\n",
       "<style scoped>\n",
       "    .dataframe tbody tr th:only-of-type {\n",
       "        vertical-align: middle;\n",
       "    }\n",
       "\n",
       "    .dataframe tbody tr th {\n",
       "        vertical-align: top;\n",
       "    }\n",
       "\n",
       "    .dataframe thead th {\n",
       "        text-align: right;\n",
       "    }\n",
       "</style>\n",
       "<table border=\"1\" class=\"dataframe\">\n",
       "  <thead>\n",
       "    <tr style=\"text-align: right;\">\n",
       "      <th></th>\n",
       "      <th>Area</th>\n",
       "      <th>Price</th>\n",
       "      <th>Predict</th>\n",
       "      <th>Error</th>\n",
       "      <th>Sq_Error</th>\n",
       "    </tr>\n",
       "  </thead>\n",
       "  <tbody>\n",
       "    <tr>\n",
       "      <th>0</th>\n",
       "      <td>26</td>\n",
       "      <td>550</td>\n",
       "      <td>533.664384</td>\n",
       "      <td>16.335616</td>\n",
       "      <td>266.852364</td>\n",
       "    </tr>\n",
       "    <tr>\n",
       "      <th>1</th>\n",
       "      <td>30</td>\n",
       "      <td>565</td>\n",
       "      <td>587.979452</td>\n",
       "      <td>-22.979452</td>\n",
       "      <td>528.055217</td>\n",
       "    </tr>\n",
       "    <tr>\n",
       "      <th>2</th>\n",
       "      <td>32</td>\n",
       "      <td>610</td>\n",
       "      <td>615.136986</td>\n",
       "      <td>-5.136986</td>\n",
       "      <td>26.388628</td>\n",
       "    </tr>\n",
       "    <tr>\n",
       "      <th>3</th>\n",
       "      <td>36</td>\n",
       "      <td>680</td>\n",
       "      <td>669.452055</td>\n",
       "      <td>10.547945</td>\n",
       "      <td>111.259148</td>\n",
       "    </tr>\n",
       "    <tr>\n",
       "      <th>4</th>\n",
       "      <td>40</td>\n",
       "      <td>725</td>\n",
       "      <td>723.767123</td>\n",
       "      <td>1.232877</td>\n",
       "      <td>1.519985</td>\n",
       "    </tr>\n",
       "  </tbody>\n",
       "</table>\n",
       "</div>"
      ],
      "text/plain": [
       "   Area  Price     Predict      Error    Sq_Error\n",
       "0    26    550  533.664384  16.335616  266.852364\n",
       "1    30    565  587.979452 -22.979452  528.055217\n",
       "2    32    610  615.136986  -5.136986   26.388628\n",
       "3    36    680  669.452055  10.547945  111.259148\n",
       "4    40    725  723.767123   1.232877    1.519985"
      ]
     },
     "execution_count": 13,
     "metadata": {},
     "output_type": "execute_result"
    }
   ],
   "source": [
    "df"
   ]
  },
  {
   "cell_type": "code",
   "execution_count": 14,
   "id": "8eef2278",
   "metadata": {},
   "outputs": [
    {
     "data": {
      "text/plain": [
       "186.8150684931507"
      ]
     },
     "execution_count": 14,
     "metadata": {},
     "output_type": "execute_result"
    }
   ],
   "source": [
    "from sklearn.metrics import mean_squared_error\n",
    "mean_squared_error(df['Price'], df['Predict'])"
   ]
  },
  {
   "cell_type": "code",
   "execution_count": 15,
   "id": "55a57cb5",
   "metadata": {},
   "outputs": [
    {
     "data": {
      "text/html": [
       "<div>\n",
       "<style scoped>\n",
       "    .dataframe tbody tr th:only-of-type {\n",
       "        vertical-align: middle;\n",
       "    }\n",
       "\n",
       "    .dataframe tbody tr th {\n",
       "        vertical-align: top;\n",
       "    }\n",
       "\n",
       "    .dataframe thead th {\n",
       "        text-align: right;\n",
       "    }\n",
       "</style>\n",
       "<table border=\"1\" class=\"dataframe\">\n",
       "  <thead>\n",
       "    <tr style=\"text-align: right;\">\n",
       "      <th></th>\n",
       "      <th>Area</th>\n",
       "      <th>Price</th>\n",
       "      <th>Predict</th>\n",
       "      <th>Error</th>\n",
       "      <th>Sq_Error</th>\n",
       "      <th>Mean</th>\n",
       "    </tr>\n",
       "  </thead>\n",
       "  <tbody>\n",
       "    <tr>\n",
       "      <th>0</th>\n",
       "      <td>26</td>\n",
       "      <td>550</td>\n",
       "      <td>533.664384</td>\n",
       "      <td>16.335616</td>\n",
       "      <td>266.852364</td>\n",
       "      <td>626.0</td>\n",
       "    </tr>\n",
       "    <tr>\n",
       "      <th>1</th>\n",
       "      <td>30</td>\n",
       "      <td>565</td>\n",
       "      <td>587.979452</td>\n",
       "      <td>-22.979452</td>\n",
       "      <td>528.055217</td>\n",
       "      <td>626.0</td>\n",
       "    </tr>\n",
       "    <tr>\n",
       "      <th>2</th>\n",
       "      <td>32</td>\n",
       "      <td>610</td>\n",
       "      <td>615.136986</td>\n",
       "      <td>-5.136986</td>\n",
       "      <td>26.388628</td>\n",
       "      <td>626.0</td>\n",
       "    </tr>\n",
       "    <tr>\n",
       "      <th>3</th>\n",
       "      <td>36</td>\n",
       "      <td>680</td>\n",
       "      <td>669.452055</td>\n",
       "      <td>10.547945</td>\n",
       "      <td>111.259148</td>\n",
       "      <td>626.0</td>\n",
       "    </tr>\n",
       "    <tr>\n",
       "      <th>4</th>\n",
       "      <td>40</td>\n",
       "      <td>725</td>\n",
       "      <td>723.767123</td>\n",
       "      <td>1.232877</td>\n",
       "      <td>1.519985</td>\n",
       "      <td>626.0</td>\n",
       "    </tr>\n",
       "  </tbody>\n",
       "</table>\n",
       "</div>"
      ],
      "text/plain": [
       "   Area  Price     Predict      Error    Sq_Error   Mean\n",
       "0    26    550  533.664384  16.335616  266.852364  626.0\n",
       "1    30    565  587.979452 -22.979452  528.055217  626.0\n",
       "2    32    610  615.136986  -5.136986   26.388628  626.0\n",
       "3    36    680  669.452055  10.547945  111.259148  626.0\n",
       "4    40    725  723.767123   1.232877    1.519985  626.0"
      ]
     },
     "execution_count": 15,
     "metadata": {},
     "output_type": "execute_result"
    }
   ],
   "source": [
    "df['Mean'] = df['Price'].mean()\n",
    "df"
   ]
  },
  {
   "cell_type": "code",
   "execution_count": 16,
   "id": "3f1f7eb5",
   "metadata": {},
   "outputs": [
    {
     "data": {
      "text/html": [
       "<div>\n",
       "<style scoped>\n",
       "    .dataframe tbody tr th:only-of-type {\n",
       "        vertical-align: middle;\n",
       "    }\n",
       "\n",
       "    .dataframe tbody tr th {\n",
       "        vertical-align: top;\n",
       "    }\n",
       "\n",
       "    .dataframe thead th {\n",
       "        text-align: right;\n",
       "    }\n",
       "</style>\n",
       "<table border=\"1\" class=\"dataframe\">\n",
       "  <thead>\n",
       "    <tr style=\"text-align: right;\">\n",
       "      <th></th>\n",
       "      <th>Area</th>\n",
       "      <th>Price</th>\n",
       "      <th>Predict</th>\n",
       "      <th>Error</th>\n",
       "      <th>Sq_Error</th>\n",
       "      <th>Mean</th>\n",
       "      <th>PriceMean</th>\n",
       "      <th>Sq_Mean</th>\n",
       "    </tr>\n",
       "  </thead>\n",
       "  <tbody>\n",
       "    <tr>\n",
       "      <th>0</th>\n",
       "      <td>26</td>\n",
       "      <td>550</td>\n",
       "      <td>533.664384</td>\n",
       "      <td>16.335616</td>\n",
       "      <td>266.852364</td>\n",
       "      <td>626.0</td>\n",
       "      <td>-76.0</td>\n",
       "      <td>5776.0</td>\n",
       "    </tr>\n",
       "    <tr>\n",
       "      <th>1</th>\n",
       "      <td>30</td>\n",
       "      <td>565</td>\n",
       "      <td>587.979452</td>\n",
       "      <td>-22.979452</td>\n",
       "      <td>528.055217</td>\n",
       "      <td>626.0</td>\n",
       "      <td>-61.0</td>\n",
       "      <td>3721.0</td>\n",
       "    </tr>\n",
       "    <tr>\n",
       "      <th>2</th>\n",
       "      <td>32</td>\n",
       "      <td>610</td>\n",
       "      <td>615.136986</td>\n",
       "      <td>-5.136986</td>\n",
       "      <td>26.388628</td>\n",
       "      <td>626.0</td>\n",
       "      <td>-16.0</td>\n",
       "      <td>256.0</td>\n",
       "    </tr>\n",
       "    <tr>\n",
       "      <th>3</th>\n",
       "      <td>36</td>\n",
       "      <td>680</td>\n",
       "      <td>669.452055</td>\n",
       "      <td>10.547945</td>\n",
       "      <td>111.259148</td>\n",
       "      <td>626.0</td>\n",
       "      <td>54.0</td>\n",
       "      <td>2916.0</td>\n",
       "    </tr>\n",
       "    <tr>\n",
       "      <th>4</th>\n",
       "      <td>40</td>\n",
       "      <td>725</td>\n",
       "      <td>723.767123</td>\n",
       "      <td>1.232877</td>\n",
       "      <td>1.519985</td>\n",
       "      <td>626.0</td>\n",
       "      <td>99.0</td>\n",
       "      <td>9801.0</td>\n",
       "    </tr>\n",
       "  </tbody>\n",
       "</table>\n",
       "</div>"
      ],
      "text/plain": [
       "   Area  Price     Predict      Error    Sq_Error   Mean  PriceMean  Sq_Mean\n",
       "0    26    550  533.664384  16.335616  266.852364  626.0      -76.0   5776.0\n",
       "1    30    565  587.979452 -22.979452  528.055217  626.0      -61.0   3721.0\n",
       "2    32    610  615.136986  -5.136986   26.388628  626.0      -16.0    256.0\n",
       "3    36    680  669.452055  10.547945  111.259148  626.0       54.0   2916.0\n",
       "4    40    725  723.767123   1.232877    1.519985  626.0       99.0   9801.0"
      ]
     },
     "execution_count": 16,
     "metadata": {},
     "output_type": "execute_result"
    }
   ],
   "source": [
    "df['PriceMean'] = df['Price']-df['Mean']\n",
    "df['Sq_Mean']=df['PriceMean']**2\n",
    "df"
   ]
  },
  {
   "cell_type": "code",
   "execution_count": 17,
   "id": "390b35aa",
   "metadata": {},
   "outputs": [
    {
     "data": {
      "text/plain": [
       "0.9584301138199487"
      ]
     },
     "execution_count": 17,
     "metadata": {},
     "output_type": "execute_result"
    }
   ],
   "source": [
    "a = df['Sq_Error'].sum()\n",
    "b = df['Sq_Mean'].sum()\n",
    "r2 = 1-(a/b)\n",
    "r2"
   ]
  },
  {
   "cell_type": "code",
   "execution_count": 18,
   "id": "429b296f",
   "metadata": {},
   "outputs": [
    {
     "data": {
      "text/plain": [
       "0.9584301138199487"
      ]
     },
     "execution_count": 18,
     "metadata": {},
     "output_type": "execute_result"
    }
   ],
   "source": [
    "from sklearn.metrics import r2_score\n",
    "r2_score(df['Price'], df['Predict'])"
   ]
  },
  {
   "cell_type": "code",
   "execution_count": 24,
   "id": "8ea887d0",
   "metadata": {},
   "outputs": [
    {
     "name": "stdout",
     "output_type": "stream",
     "text": [
      "0.9584301138199487\n"
     ]
    }
   ],
   "source": [
    "filename = 'finalized_LRmodel.sav'\n",
    "pickle.dump(reg, open(filename, 'wb'))\n",
    "loaded_model = pickle.load(open(filename, 'rb'))\n",
    "result = loaded_model.score(df[['Area']],df['Price'])\n",
    "print(result)"
   ]
  },
  {
   "cell_type": "code",
   "execution_count": null,
   "id": "c92569c1",
   "metadata": {},
   "outputs": [],
   "source": []
  },
  {
   "cell_type": "code",
   "execution_count": null,
   "id": "e7243390",
   "metadata": {},
   "outputs": [],
   "source": []
  }
 ],
 "metadata": {
  "kernelspec": {
   "display_name": "Python 3 (ipykernel)",
   "language": "python",
   "name": "python3"
  },
  "language_info": {
   "codemirror_mode": {
    "name": "ipython",
    "version": 3
   },
   "file_extension": ".py",
   "mimetype": "text/x-python",
   "name": "python",
   "nbconvert_exporter": "python",
   "pygments_lexer": "ipython3",
   "version": "3.9.7"
  }
 },
 "nbformat": 4,
 "nbformat_minor": 5
}
